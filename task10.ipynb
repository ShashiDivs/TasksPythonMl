{
 "cells": [
  {
   "cell_type": "code",
   "execution_count": 2,
   "metadata": {},
   "outputs": [],
   "source": [
    "def filename(filename):\n",
    "    with open(filename,'w') as f:\n",
    "        f.write('Hey I am shashi and How are you I am doing Phd')\n",
    "\n",
    "filename('sample.txt')"
   ]
  },
  {
   "cell_type": "code",
   "execution_count": 5,
   "metadata": {},
   "outputs": [
    {
     "data": {
      "text/plain": [
       "{'a': 5, 'e': 2, 'i': 2, 'o': 3, 'u': 1}"
      ]
     },
     "execution_count": 5,
     "metadata": {},
     "output_type": "execute_result"
    }
   ],
   "source": [
    "def vowl_count(filename):\n",
    "    vowls = ['a','e','i','o','u']\n",
    "    d = {i:0 for i in vowls}\n",
    "    for i in open(filename,'r'):\n",
    "        for ch in i:\n",
    "            if ch in vowls:\n",
    "                d[ch]+=1\n",
    "\n",
    "    return d\n",
    "\n",
    "vowl_count('sample.txt')"
   ]
  }
 ],
 "metadata": {
  "kernelspec": {
   "display_name": "Python 3.8.10 64-bit",
   "language": "python",
   "name": "python3"
  },
  "language_info": {
   "codemirror_mode": {
    "name": "ipython",
    "version": 3
   },
   "file_extension": ".py",
   "mimetype": "text/x-python",
   "name": "python",
   "nbconvert_exporter": "python",
   "pygments_lexer": "ipython3",
   "version": "3.8.10"
  },
  "orig_nbformat": 4,
  "vscode": {
   "interpreter": {
    "hash": "e7370f93d1d0cde622a1f8e1c04877d8463912d04d973331ad4851f04de6915a"
   }
  }
 },
 "nbformat": 4,
 "nbformat_minor": 2
}
