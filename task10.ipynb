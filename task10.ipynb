{
 "cells": [
  {
   "cell_type": "markdown",
   "metadata": {},
   "source": [
    "Q-1: Write a function get_final_line(filename), which takes filename as input and return final line of the file.\n",
    "Note: You can choose any file of your choice."
   ]
  },
  {
   "cell_type": "code",
   "execution_count": 4,
   "metadata": {},
   "outputs": [],
   "source": [
    "with open('sasi.txt','a') as f:\n",
    "    f.write(\"\\n i am from Mumbai\")"
   ]
  },
  {
   "cell_type": "code",
   "execution_count": 5,
   "metadata": {},
   "outputs": [
    {
     "data": {
      "text/plain": [
       "' i am from Mumbai'"
      ]
     },
     "execution_count": 5,
     "metadata": {},
     "output_type": "execute_result"
    }
   ],
   "source": [
    "def get_final_line(filename):\n",
    "    final_line = \"\"\n",
    "    for x in open(filename, 'r'):\n",
    "        final_line = x\n",
    "    return final_line\n",
    "\n",
    "get_final_line('sasi.txt')"
   ]
  },
  {
   "cell_type": "code",
   "execution_count": 2,
   "metadata": {},
   "outputs": [],
   "source": [
    "def filename(filename):\n",
    "    with open(filename,'w') as f:\n",
    "        f.write('Hey I am shashi and How are you I am doing Phd')\n",
    "\n",
    "filename('sample.txt')"
   ]
  },
  {
   "cell_type": "markdown",
   "metadata": {},
   "source": [
    "Q-2: Read through a text file, line by line. Use a dict to keep track of how many times each vowel (a, e, i, o, and u) appears in the file. Print the resulting tabulation -- dictionary."
   ]
  },
  {
   "cell_type": "code",
   "execution_count": 5,
   "metadata": {},
   "outputs": [
    {
     "data": {
      "text/plain": [
       "{'a': 5, 'e': 2, 'i': 2, 'o': 3, 'u': 1}"
      ]
     },
     "execution_count": 5,
     "metadata": {},
     "output_type": "execute_result"
    }
   ],
   "source": [
    "def vowl_count(filename):\n",
    "    vowls = ['a','e','i','o','u']\n",
    "    d = {i:0 for i in vowls}\n",
    "    for i in open(filename,'r'):\n",
    "        for ch in i:\n",
    "            if ch in vowls:\n",
    "                d[ch]+=1\n",
    "\n",
    "    return d\n",
    "\n",
    "vowl_count('sample.txt')"
   ]
  },
  {
   "cell_type": "markdown",
   "metadata": {},
   "source": [
    "Q-3: Create a text file (using an editor, not necessarily Python) containing two tab separated columns, with each column containing a number. Then use Python to read through the file you’ve created. For each line, multiply each first number by the second and include it in the file in third column. In last add a line Total, by summing the value of third column\n",
    "Input File example: That you need to create"
   ]
  },
  {
   "cell_type": "markdown",
   "metadata": {},
   "source": [
    "Input File example: That you need to create\n",
    "\n",
    "1   2\n",
    "3   4\n",
    "5   6\n",
    "7   8\n",
    "9   10"
   ]
  },
  {
   "cell_type": "markdown",
   "metadata": {},
   "source": [
    "Output File Example:\n",
    "\n",
    "1   2   2\n",
    "3   4   12\n",
    "5   6   30\n",
    "7   8   56\n",
    "9   10  90\n",
    "\n",
    "Total   190"
   ]
  },
  {
   "cell_type": "code",
   "execution_count": 17,
   "metadata": {},
   "outputs": [],
   "source": [
    "file_name = \"test-2.txt\"\n",
    "\n",
    "f = open(file_name,'w')\n",
    "\n",
    "for i in range(1,11,2):\n",
    "    line = \"{}\\t{}\\n\".format(i,i+1)\n",
    "    f.writelines(line)\n",
    "\n",
    "f.close()\n",
    "\n",
    "with open(file_name,'r') as f:\n",
    "    lines = f.read().splitlines()\n",
    "\n",
    "total = 0\n",
    "with open(file_name,'w') as f:\n",
    "    for line in lines:\n",
    "        a,b = line.split(sep=\"\\t\")\n",
    "        res = int(a) * int(b)\n",
    "        total+=res\n",
    "        f.write(\"{}\\t{}\\t{}\\n\".format(a,b,res))\n",
    "    f.write(\"Total\\t\"+str(total))"
   ]
  },
  {
   "cell_type": "code",
   "execution_count": 12,
   "metadata": {},
   "outputs": [
    {
     "name": "stdout",
     "output_type": "stream",
     "text": [
      "1 \t 2 \n",
      "\n",
      "3 \t 4 \n",
      "\n",
      "5 \t 6 \n",
      "\n",
      "7 \t 8 \n",
      "\n",
      "9 \t 10 \n",
      "\n"
     ]
    }
   ],
   "source": [
    "for i in range(1,11,2):\n",
    "    print(i,\"\\t\",i+1,\"\\n\")"
   ]
  }
 ],
 "metadata": {
  "kernelspec": {
   "display_name": "Python 3.8.10 64-bit",
   "language": "python",
   "name": "python3"
  },
  "language_info": {
   "codemirror_mode": {
    "name": "ipython",
    "version": 3
   },
   "file_extension": ".py",
   "mimetype": "text/x-python",
   "name": "python",
   "nbconvert_exporter": "python",
   "pygments_lexer": "ipython3",
   "version": "3.8.10"
  },
  "orig_nbformat": 4,
  "vscode": {
   "interpreter": {
    "hash": "e7370f93d1d0cde622a1f8e1c04877d8463912d04d973331ad4851f04de6915a"
   }
  }
 },
 "nbformat": 4,
 "nbformat_minor": 2
}
