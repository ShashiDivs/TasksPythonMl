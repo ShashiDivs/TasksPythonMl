{
 "cells": [
  {
   "cell_type": "markdown",
   "metadata": {},
   "source": [
    "Q-1: Rectangle Class\n",
    "\n",
    "Write a Rectangle class in Python language, allowing you to build a rectangle with length and width attributes.\n",
    "\n",
    "Create a Perimeter() method to calculate the perimeter of the rectangle and a Area() method to calculate the area of ​​the rectangle.\n",
    "\n",
    "Create a method display() that display the length, width, perimeter and area of an object created using an instantiation on rectangle class.\n",
    "\n",
    "Eg. After making above classes and methods, on executing below code:-\n",
    "\n",
    "my_rectangle = Rectangle(3 , 4)\n",
    "my_rectangle.display()\n",
    "\n",
    "Output:\n",
    "\n",
    "The length of rectangle is:  3\n",
    "The width of rectangle is:  4\n",
    "The perimeter of rectangle is:  14\n",
    "The area of rectangle is:  12"
   ]
  },
  {
   "cell_type": "code",
   "execution_count": 2,
   "metadata": {},
   "outputs": [
    {
     "name": "stdout",
     "output_type": "stream",
     "text": [
      "length 23\n",
      "width 45\n",
      "perimeter 136\n",
      "area 1035\n"
     ]
    }
   ],
   "source": [
    "# write your code here\n",
    "\n",
    "class Rectangle:\n",
    "\n",
    "    def __init__(self,l,b):\n",
    "        self.__length = l\n",
    "        self.__width = b\n",
    "\n",
    "\n",
    "    def __perimeter(self):\n",
    "        return 2*(self.__length+self.__width)\n",
    "\n",
    "    def __area(self):\n",
    "        return self.__length * self.__width\n",
    "\n",
    "    def display(self):\n",
    "        print('length',self.__length)\n",
    "        print('width',self.__width)\n",
    "        print('perimeter',self.__perimeter())\n",
    "        print('area',self.__area())\n",
    "\n",
    "\n",
    "obj = Rectangle(23,45)\n",
    "\n",
    "obj.display()\n"
   ]
  },
  {
   "cell_type": "markdown",
   "metadata": {},
   "source": [
    "Q-2: Bank Class\n",
    "\n",
    "Create a Python class called BankAccount which represents a bank account, having as attributes: accountNumber (numeric type), name (name of the account owner as string type), balance.\n",
    "\n",
    "Create a constructor with parameters: accountNumber, name, balance.\n",
    "Create a Deposit() method which manages the deposit actions.\n",
    "Create a Withdrawal() method which manages withdrawals actions.\n",
    "Create an bankFees() method to apply the bank fees with a percentage of 5% of the balance account.\n",
    "Create a display() method to display account details. Give the complete code for the BankAccount class.\n",
    "\n",
    "Eg. After making above classes and methods, on executing below code:-\n",
    "\n",
    "newAccount = BankAccount(2178514584, \"Mandy\" , 2800)\n",
    "\n",
    "newAccount.Withdrawal(700)\n",
    "\n",
    "newAccount.Deposit(1000)\n",
    "\n",
    "newAccount.display()\n",
    "\n",
    "\n",
    "Output:\n",
    "\n",
    "Account Number :  2178514584\n",
    "Account Name :  Mandy\n",
    "Account Balance :  3100 ₹"
   ]
  },
  {
   "cell_type": "code",
   "execution_count": 2,
   "metadata": {},
   "outputs": [
    {
     "name": "stdout",
     "output_type": "stream",
     "text": [
      "Account Number :  534262\n",
      "Account Name :  shashi\n",
      "Account Balance :  14725.0 ₹\n"
     ]
    }
   ],
   "source": [
    "class Bank:\n",
    "\n",
    "    def __init__(self,name,acc_no,balance):\n",
    "        self.__name = name\n",
    "        self.__acc_no = acc_no\n",
    "        self.__balalnce = balance\n",
    "\n",
    "    def display(self):\n",
    "        print('Account Number : ', self.__acc_no)\n",
    "        print('Account Name : ', self.__name)\n",
    "        print('Account Balance : ',self.__balalnce,'₹')\n",
    "\n",
    "\n",
    "    def diposit(self,amount):\n",
    "        self.__balalnce = self.__balalnce + amount\n",
    "\n",
    "    def withdrawl(self,amount):\n",
    "        if amount>self.__balalnce:\n",
    "            print('Insufficient Funds')\n",
    "        else:\n",
    "            self.__balalnce = self.__balalnce - amount\n",
    "            reduction = self.__bankFees()\n",
    "            self.__balalnce = self.__balalnce - reduction\n",
    "\n",
    "    def __bankFees(self):\n",
    "        return 0.05*self.__balalnce\n",
    "\n",
    "\n",
    "cust = Bank('shashi',534262,500)\n",
    "cust.diposit(20000)\n",
    "cust.withdrawl(5000)\n",
    "cust.display()"
   ]
  },
  {
   "cell_type": "markdown",
   "metadata": {},
   "source": [
    "Q-3:Computation class\n",
    "\n",
    "\n",
    "Create a Computation class with a default constructor (without parameters) allowing to perform various calculations on integers numbers.\n",
    "\n",
    "Create a method called Factorial() which allows to calculate the factorial of an integer n. Integer n as parameter for this method\n",
    "\n",
    "Create a method called naturalSum() allowing to calculate the sum of the first n integers 1 + 2 + 3 + .. + n. Integer n as parameter for this method.\n",
    "\n",
    "Create a method called testPrime() in the Calculation class to test the primality of a given integer n, n is Prime or Not? Integer n as parameter for this method.\n",
    "\n",
    "Create a method called testPrims() allowing to test if two numbers are prime between them. Two integers are prime to one another if they have only 1 as their common divisor. Eg. 4 and 9 are prime to each other.\n",
    "\n",
    "Create a tableMult() method which creates and displays the multiplication table of a given integer. Then create an allTablesMult() method to display all the integer multiplication tables 1, 2, 3, ..., 9.\n",
    "\n",
    "Create a static listDiv() method that gets all the divisors of a given integer on new list called Ldiv. Create another listDivPrim() method that gets all the prime divisors of a given integer."
   ]
  },
  {
   "cell_type": "markdown",
   "metadata": {},
   "source": []
  },
  {
   "cell_type": "code",
   "execution_count": 12,
   "metadata": {},
   "outputs": [
    {
     "data": {
      "text/plain": [
       "7"
      ]
     },
     "execution_count": 12,
     "metadata": {},
     "output_type": "execute_result"
    }
   ],
   "source": [
    "class Computation:\n",
    "\n",
    "    def __init__(self):\n",
    "        pass\n",
    "    #---------Factorail-------\n",
    "\n",
    "    def factorail(self,n):\n",
    "        j = 1\n",
    "        for i in range(1,n+1):\n",
    "            j = j * i\n",
    "        return j\n",
    "\n",
    "    def sums(self,n):\n",
    "        j = 1\n",
    "        for i in range(1, n+1):\n",
    "            j = j + i\n",
    "        return j\n",
    "        \n",
    "\n",
    "\n",
    "\n",
    "\n",
    "\n",
    "com = Computation()\n",
    "com.factorail(4)\n",
    "com.sums(3)"
   ]
  },
  {
   "cell_type": "code",
   "execution_count": 3,
   "metadata": {},
   "outputs": [
    {
     "name": "stdout",
     "output_type": "stream",
     "text": [
      "Wlecome to the fruit quiz\n",
      "What is the color of strawberry\n",
      "Sahi jawab\n"
     ]
    }
   ],
   "source": [
    "import random\n",
    "\n",
    "class FlashCard:\n",
    "\n",
    "    def __init__(self):\n",
    "\n",
    "        self.__fruits = {\n",
    "            'apple':'red',\n",
    "            'banana':'yellow',\n",
    "            'watermelon':'green',\n",
    "            'strawberry':'pink',\n",
    "            'gauva':'green'\n",
    "        }\n",
    "\n",
    "    def quiz(self):\n",
    "\n",
    "        while True:\n",
    "\n",
    "            fruit,color = random.choices(list(self.__fruits.items()))[0]\n",
    "            print(\"What is the color of {}\".format(fruit))\n",
    "            user_answer = input()\n",
    "\n",
    "            if user_answer.lower() == color:\n",
    "                print('Sahi jawab')\n",
    "            else:\n",
    "                print('galat jawab')\n",
    "\n",
    "            option = int(input('enter 0 to play again 1 to exit :'))\n",
    "\n",
    "\n",
    "            if option:\n",
    "                break\n",
    "\n",
    "print('Wlecome to the fruit quiz')\n",
    "\n",
    "fc = FlashCard()\n",
    "fc.quiz()\n",
    "\n",
    "            "
   ]
  },
  {
   "cell_type": "code",
   "execution_count": 6,
   "metadata": {},
   "outputs": [
    {
     "name": "stdout",
     "output_type": "stream",
     "text": [
      "What is the color of banana\n",
      "Okay\n"
     ]
    }
   ],
   "source": [
    "import random\n",
    "d = {\n",
    "            'apple':'red',\n",
    "            'banana':'yellow',\n",
    "            'watermelon':'green',\n",
    "            'strawberry':'pink',\n",
    "            'gauva':'green'\n",
    "        }\n",
    "\n",
    "fruit,color = random.choices(list(d.items()))[0]\n",
    "\n",
    "print(\"What is the color of {}\".format(fruit))\n",
    "user = input()\n",
    "if user == color:\n",
    "    print('Okay')\n",
    "else:\n",
    "    print('No')\n"
   ]
  },
  {
   "cell_type": "markdown",
   "metadata": {},
   "source": [
    "Q-5: Problem 5 based on OOP Python.\n",
    "\n",
    "TechWorld, a technology training center, wants to allocate courses for instructors. An instructor is identified by name, technology skills, experience and average feedback. An instructor is allocated a course, if he/she satisfies the below two conditions:\n",
    "\n",
    "eligibility criteria:\n",
    "if experience is more than 3 years, average feedback should be 4.5 or more\n",
    "\n",
    "if experience is 3 years or less, average feedback should be 4 or more\n",
    "he/she should posses the technology skill for the course\n",
    "\n",
    "Identify the class name and attributes to represent instructors. Write a Python program to implement the class chosen with its attributes and methods.\n",
    "\n",
    "Note:\n",
    "\n",
    "Consider all instance variables to be private and methods to be public.\n",
    "\n",
    "An instructor may have multiple technology skills, so consider instance variable, technology_skill to be a list.\n",
    "\n",
    "check_eligibility(): Return true if eligibility criteria is satisfied by the instructor. Else, return false\n",
    "\n",
    "allocate_course(technology): Return true if the course which requires the given technology can be allocated to the instructor. Else, return false.\n",
    "\n",
    "Represent a few objects of the class, initialize instance variables using setter methods, invoke appropriate methods and test your program."
   ]
  },
  {
   "cell_type": "code",
   "execution_count": null,
   "metadata": {},
   "outputs": [],
   "source": []
  }
 ],
 "metadata": {
  "kernelspec": {
   "display_name": "Python 3.8.10 64-bit",
   "language": "python",
   "name": "python3"
  },
  "language_info": {
   "codemirror_mode": {
    "name": "ipython",
    "version": 3
   },
   "file_extension": ".py",
   "mimetype": "text/x-python",
   "name": "python",
   "nbconvert_exporter": "python",
   "pygments_lexer": "ipython3",
   "version": "3.8.10"
  },
  "orig_nbformat": 4,
  "vscode": {
   "interpreter": {
    "hash": "e7370f93d1d0cde622a1f8e1c04877d8463912d04d973331ad4851f04de6915a"
   }
  }
 },
 "nbformat": 4,
 "nbformat_minor": 2
}
