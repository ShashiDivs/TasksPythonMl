{
 "cells": [
  {
   "cell_type": "code",
   "execution_count": 2,
   "metadata": {},
   "outputs": [
    {
     "data": {
      "text/plain": [
       "[['M', 'y'], ['na', 'me'], ['i', 's'], ['Kh', 'an']]"
      ]
     },
     "execution_count": 2,
     "metadata": {},
     "output_type": "execute_result"
    }
   ],
   "source": [
    "list1 = [\"M\", \"na\", \"i\", \"Kh\"]\n",
    "list2 = [\"y\", \"me\", \"s\", \"an\"]\n",
    "\n",
    "[[i,j] for (i,j) in zip(list1,list2)]"
   ]
  },
  {
   "cell_type": "code",
   "execution_count": 10,
   "metadata": {},
   "outputs": [
    {
     "name": "stdout",
     "output_type": "stream",
     "text": [
      "[10, 20, [300, 400, [5000, 6000, 7000], 500], 30, 40]\n"
     ]
    }
   ],
   "source": [
    "list1 = [10, 20, [300, 400, [5000, 6000], 500], 30, 40]\n",
    "\n",
    "for i in list1:\n",
    "    if type(i) == list:\n",
    "        i[-2].append(7000)\n",
    "print(list1)\n",
    "\n",
    "    "
   ]
  },
  {
   "cell_type": "code",
   "execution_count": 19,
   "metadata": {},
   "outputs": [
    {
     "name": "stdout",
     "output_type": "stream",
     "text": [
      "['CampusX is a channel']['for data-science']['aspirants.']"
     ]
    }
   ],
   "source": [
    "x = ['CampusX is a channel', 'for data-science', 'aspirants.']\n",
    "\n",
    "for i in x:\n",
    "    if type(i) == str:\n",
    "        print(i.splitlines(),end='')"
   ]
  },
  {
   "cell_type": "code",
   "execution_count": 7,
   "metadata": {},
   "outputs": [
    {
     "name": "stdout",
     "output_type": "stream",
     "text": [
      "campuxisbestchannel\n"
     ]
    }
   ],
   "source": [
    "camp = [['c', 'a', 'm', 'p', 'u', 'x'], ['i', 's'], ['b', 'e', 's', 't'], ['c', 'h', 'a', 'n', 'n', 'e', 'l']]\n",
    "res = ''\n",
    "for i in camp:\n",
    "    for j in i:\n",
    "        res = res+j\n",
    "print(''.join(res))"
   ]
  },
  {
   "cell_type": "code",
   "execution_count": 5,
   "metadata": {},
   "outputs": [
    {
     "data": {
      "text/plain": [
       "'campux is best channel'"
      ]
     },
     "execution_count": 5,
     "metadata": {},
     "output_type": "execute_result"
    }
   ],
   "source": [
    "\" \".join([\"\".join(i) for i in camp])"
   ]
  },
  {
   "cell_type": "code",
   "execution_count": 64,
   "metadata": {},
   "outputs": [
    {
     "name": "stdout",
     "output_type": "stream",
     "text": [
      "Jelly Belly - 10\n",
      "Kit Kat - 20\n",
      "Double Bubble - 34\n",
      "Milky Way - 74\n",
      "Three Musketeers - 32\n"
     ]
    }
   ],
   "source": [
    "candy_list = ['Jelly Belly','Kit Kat','Double Bubble','Milky Way','Three Musketeers']\n",
    "no_of_items = [10,20,34,74,32]\n",
    "\n",
    "for key,value in zip(candy_list,no_of_items):\n",
    "    print(key,\"-\",value)\n"
   ]
  },
  {
   "cell_type": "code",
   "execution_count": 69,
   "metadata": {},
   "outputs": [
    {
     "name": "stdout",
     "output_type": "stream",
     "text": [
      "[34, 67, 89]\n"
     ]
    }
   ],
   "source": [
    "num1 = [23,45,67,78,89,34]\n",
    "num2 = [34,89,55,56,39,67]\n",
    "\n",
    "x = []\n",
    "\n",
    "for i in num2:\n",
    "    if i in num1:\n",
    "        x.append(i)\n",
    "print(sorted(x))\n",
    "    "
   ]
  },
  {
   "cell_type": "code",
   "execution_count": 87,
   "metadata": {},
   "outputs": [
    {
     "name": "stdout",
     "output_type": "stream",
     "text": [
      "campusxIs\n",
      "bestFor\n",
      "dataScientist\n"
     ]
    }
   ],
   "source": [
    "ps = ['campusxIs', 'bestFor', 'dataScientist']\n",
    "\n",
    "for i in ps:\n",
    "    if i.split(sep=','):\n",
    "        print(i)"
   ]
  },
  {
   "cell_type": "code",
   "execution_count": 13,
   "metadata": {},
   "outputs": [
    {
     "name": "stdout",
     "output_type": "stream",
     "text": [
      "A\n",
      "I\n",
      "O\n",
      "E\n",
      "O\n",
      "U\n",
      "I\n",
      "A\n",
      "E\n",
      "I\n"
     ]
    }
   ],
   "source": [
    "xs = 'SHASHILOVEYOUDIVYAHEYHI'\n",
    "vow = 'AEIOU'\n",
    "for i in xs:\n",
    "  if i in vow:\n",
    "    print(i)"
   ]
  },
  {
   "cell_type": "code",
   "execution_count": 11,
   "metadata": {},
   "outputs": [
    {
     "data": {
      "text/plain": [
       "['S', 'H', 'S', 'H', 'L', 'V', 'Y', 'D', 'V', 'Y', 'H', 'Y', 'H']"
      ]
     },
     "execution_count": 11,
     "metadata": {},
     "output_type": "execute_result"
    }
   ],
   "source": [
    "list(filter(lambda x:x not in vow,xs))"
   ]
  },
  {
   "cell_type": "code",
   "execution_count": 14,
   "metadata": {},
   "outputs": [
    {
     "data": {
      "text/plain": [
       "('helo waryuimfntk', 16)"
      ]
     },
     "execution_count": 14,
     "metadata": {},
     "output_type": "execute_result"
    }
   ],
   "source": [
    "def xs(x):\n",
    "  res = ''\n",
    "  num = 0\n",
    "  for i in x:\n",
    "    if i not in res:\n",
    "      num +=1\n",
    "      res = res+i\n",
    "  return res,num\n",
    "xs('hello how are you i am fine thank you')\n"
   ]
  },
  {
   "cell_type": "code",
   "execution_count": 15,
   "metadata": {},
   "outputs": [
    {
     "data": {
      "text/plain": [
       "('No. of Upper case characters :', 9, 'No. of Lower case Characters :', 47)"
      ]
     },
     "execution_count": 15,
     "metadata": {},
     "output_type": "execute_result"
    }
   ],
   "source": [
    "sam = 'CampusX is an Online Mentorship Program fOr EnginEering studentS'\n",
    "\n",
    "def findUL(x):\n",
    "  num = 0\n",
    "  nums = 0\n",
    "  for i in x:\n",
    "    if i.isupper():\n",
    "      num +=1\n",
    "    if i.islower():\n",
    "      nums +=1\n",
    "  return \"No. of Upper case characters :\", num, \"No. of Lower case Characters :\", nums\n",
    "\n",
    "\n",
    "findUL(sam)"
   ]
  },
  {
   "cell_type": "code",
   "execution_count": 16,
   "metadata": {},
   "outputs": [
    {
     "data": {
      "text/plain": [
       "[2, 4, 6, 8]"
      ]
     },
     "execution_count": 16,
     "metadata": {},
     "output_type": "execute_result"
    }
   ],
   "source": [
    "def even(x):\n",
    "  return [i for i in x if i%2==0]\n",
    "\n",
    "\n",
    "even([1, 2, 3, 4, 5, 6, 7, 8, 9])"
   ]
  },
  {
   "cell_type": "code",
   "execution_count": 17,
   "metadata": {},
   "outputs": [
    {
     "data": {
      "text/plain": [
       "[5, 6]"
      ]
     },
     "execution_count": 17,
     "metadata": {},
     "output_type": "execute_result"
    }
   ],
   "source": [
    "list(filter(None,[False,0,0,5,6]))"
   ]
  },
  {
   "cell_type": "code",
   "execution_count": 9,
   "metadata": {},
   "outputs": [
    {
     "name": "stdout",
     "output_type": "stream",
     "text": [
      "[1, 3, 6, 10, 15, 21]\n"
     ]
    }
   ],
   "source": [
    "list11 = [1,2,3,4,5,6]\n",
    "\n",
    "res = []\n",
    "num = 0\n",
    "for i in list11:\n",
    "    num +=i\n",
    "    res.append(num)\n",
    "print(res)"
   ]
  },
  {
   "cell_type": "markdown",
   "metadata": {},
   "source": [
    "Problem 5: You are given a list of integers. You are asked to make a list by running through elements of the list by adding all elements greater and itself.\n",
    "i.e. Say given list is [2,4,6,10,1] resultant list will be [22,20,10,23].\n",
    "\n",
    "For 1st element 2 ->> these are greater (4+6+10) values and 2 itself so on adding becomes 22.\n",
    "\n",
    "For 2nd element 4 ->> greater elements are (6, 10) and 4 itself, so on adding 20\n",
    "\n",
    "like wise for all other elememts.\n",
    "\n",
    "[2,4,6,10,1]-->[22,20,16,10,23]"
   ]
  },
  {
   "cell_type": "code",
   "execution_count": 1,
   "metadata": {},
   "outputs": [
    {
     "name": "stdout",
     "output_type": "stream",
     "text": [
      "Hello\n"
     ]
    }
   ],
   "source": [
    "print('Hello')"
   ]
  },
  {
   "cell_type": "markdown",
   "metadata": {},
   "source": []
  },
  {
   "cell_type": "markdown",
   "metadata": {},
   "source": []
  }
 ],
 "metadata": {
  "kernelspec": {
   "display_name": "Python 3.8.10 64-bit",
   "language": "python",
   "name": "python3"
  },
  "language_info": {
   "codemirror_mode": {
    "name": "ipython",
    "version": 3
   },
   "file_extension": ".py",
   "mimetype": "text/x-python",
   "name": "python",
   "nbconvert_exporter": "python",
   "pygments_lexer": "ipython3",
   "version": "3.8.10"
  },
  "orig_nbformat": 4,
  "vscode": {
   "interpreter": {
    "hash": "e7370f93d1d0cde622a1f8e1c04877d8463912d04d973331ad4851f04de6915a"
   }
  }
 },
 "nbformat": 4,
 "nbformat_minor": 2
}
