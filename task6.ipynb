{
 "cells": [
  {
   "cell_type": "markdown",
   "metadata": {},
   "source": [
    "Problem-1: Write a Python function that takes a list and returns a new list with unique elements of the first list.\n",
    "Exercise 1:\n",
    "\n",
    "Input:[1,2,3,3,3,3,4,5]\n",
    "OutPut:[1, 2, 3, 4, 5]"
   ]
  },
  {
   "cell_type": "code",
   "execution_count": 2,
   "metadata": {},
   "outputs": [
    {
     "name": "stdout",
     "output_type": "stream",
     "text": [
      "[1, 2, 3, 4, 5]\n"
     ]
    }
   ],
   "source": [
    "def unique_list(num):\n",
    "    res = []\n",
    "    for i in num:\n",
    "        if i not in res:\n",
    "            res.append(i)\n",
    "    print(res)\n",
    "\n",
    "l = [1,2,3,3,3,3,4,5]\n",
    "unique_list(l)\n",
    "    "
   ]
  },
  {
   "cell_type": "markdown",
   "metadata": {},
   "source": [
    "Problem-2: Write a Python function that accepts a hyphen-separated sequence of words as parameter and returns the words in a hyphen-separated sequence after sorting them alphabetically.\n",
    "Example 1:\n",
    "\n",
    "Input:\n",
    "\n",
    "green-red-yellow-black-white\n",
    "Output:\n",
    "\n",
    "black-green-red-white-yellow"
   ]
  },
  {
   "cell_type": "code",
   "execution_count": 5,
   "metadata": {},
   "outputs": [
    {
     "name": "stdout",
     "output_type": "stream",
     "text": [
      "['black']\n",
      "['black', 'green']\n",
      "['black', 'green', 'red']\n",
      "['black', 'green', 'red', 'white']\n",
      "['black', 'green', 'red', 'white', 'yellow']\n"
     ]
    },
    {
     "data": {
      "text/plain": [
       "'black-green-red-white-yellow'"
      ]
     },
     "execution_count": 5,
     "metadata": {},
     "output_type": "execute_result"
    }
   ],
   "source": [
    "def seq_ordered(s):\n",
    "    res = []\n",
    "    for i in sorted(s.split('-')):\n",
    "        res.append(i)\n",
    "        #print(res)\n",
    "    \n",
    "    return \"-\".join(res)\n",
    "\n",
    "ls = 'green-red-yellow-black-white'\n",
    "seq_ordered(ls)\n",
    "\n",
    "\n",
    "\n"
   ]
  },
  {
   "cell_type": "markdown",
   "metadata": {},
   "source": [
    "Problem 3: Write a Python function that accepts a string and calculate the number of upper case letters and lower case letters.\n",
    "\n",
    "Sample String : 'CampusX is an Online Mentorship Program fOr EnginEering studentS.'\n",
    "Expected Output :\n",
    "No. of Upper case characters :  9\n",
    "No. of Lower case Characters :  47"
   ]
  },
  {
   "cell_type": "code",
   "execution_count": 16,
   "metadata": {},
   "outputs": [
    {
     "name": "stdout",
     "output_type": "stream",
     "text": [
      "47 9\n"
     ]
    }
   ],
   "source": [
    "def upper_lower_find(s):\n",
    "    low_count = 0\n",
    "    upper_count = 0\n",
    "\n",
    "    for i in s:\n",
    "        if i.islower():\n",
    "            low_count +=1\n",
    "        elif i.isupper():\n",
    "            upper_count+=1\n",
    "\n",
    "    return low_count,upper_count\n",
    "\n",
    "ls = 'CampusX is an Online Mentorship Program fOr EnginEering studentS'\n",
    "x,y = upper_lower_find(ls)\n",
    "print(x,y)"
   ]
  },
  {
   "cell_type": "code",
   "execution_count": 22,
   "metadata": {},
   "outputs": [
    {
     "name": "stdout",
     "output_type": "stream",
     "text": [
      "23\n"
     ]
    },
    {
     "data": {
      "text/plain": [
       "[56, 34, 23, 22, 12, 4, 3, 1]"
      ]
     },
     "execution_count": 22,
     "metadata": {},
     "output_type": "execute_result"
    }
   ],
   "source": [
    "L = [12,23,1,4,56,34,22,3]\n",
    "k = 3\n",
    "L.sort(reverse=True)\n",
    "print(L[k-1])\n",
    "L\n",
    "\n"
   ]
  }
 ],
 "metadata": {
  "kernelspec": {
   "display_name": "Python 3.8.10 64-bit",
   "language": "python",
   "name": "python3"
  },
  "language_info": {
   "codemirror_mode": {
    "name": "ipython",
    "version": 3
   },
   "file_extension": ".py",
   "mimetype": "text/x-python",
   "name": "python",
   "nbconvert_exporter": "python",
   "pygments_lexer": "ipython3",
   "version": "3.8.10"
  },
  "orig_nbformat": 4,
  "vscode": {
   "interpreter": {
    "hash": "e7370f93d1d0cde622a1f8e1c04877d8463912d04d973331ad4851f04de6915a"
   }
  }
 },
 "nbformat": 4,
 "nbformat_minor": 2
}
