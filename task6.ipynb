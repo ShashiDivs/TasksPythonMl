{
 "cells": [
  {
   "cell_type": "markdown",
   "metadata": {},
   "source": [
    "Problem-1: Write a Python function that takes a list and returns a new list with unique elements of the first list.\n",
    "Exercise 1:\n",
    "\n",
    "Input:[1,2,3,3,3,3,4,5]\n",
    "OutPut:[1, 2, 3, 4, 5]"
   ]
  },
  {
   "cell_type": "code",
   "execution_count": 2,
   "metadata": {},
   "outputs": [
    {
     "name": "stdout",
     "output_type": "stream",
     "text": [
      "[1, 2, 3, 4, 5]\n"
     ]
    }
   ],
   "source": [
    "def unique_list(num):\n",
    "    res = []\n",
    "    for i in num:\n",
    "        if i not in res:\n",
    "            res.append(i)\n",
    "    print(res)\n",
    "\n",
    "l = [1,2,3,3,3,3,4,5]\n",
    "unique_list(l)\n",
    "    "
   ]
  },
  {
   "cell_type": "markdown",
   "metadata": {},
   "source": [
    "Problem-2: Write a Python function that accepts a hyphen-separated sequence of words as parameter and returns the words in a hyphen-separated sequence after sorting them alphabetically.\n",
    "Example 1:\n",
    "\n",
    "Input:\n",
    "\n",
    "green-red-yellow-black-white\n",
    "Output:\n",
    "\n",
    "black-green-red-white-yellow"
   ]
  }
 ],
 "metadata": {
  "kernelspec": {
   "display_name": "Python 3.8.10 64-bit",
   "language": "python",
   "name": "python3"
  },
  "language_info": {
   "codemirror_mode": {
    "name": "ipython",
    "version": 3
   },
   "file_extension": ".py",
   "mimetype": "text/x-python",
   "name": "python",
   "nbconvert_exporter": "python",
   "pygments_lexer": "ipython3",
   "version": "3.8.10"
  },
  "orig_nbformat": 4,
  "vscode": {
   "interpreter": {
    "hash": "e7370f93d1d0cde622a1f8e1c04877d8463912d04d973331ad4851f04de6915a"
   }
  }
 },
 "nbformat": 4,
 "nbformat_minor": 2
}
