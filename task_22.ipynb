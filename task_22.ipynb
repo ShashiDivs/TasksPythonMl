{
  "cells": [
    {
      "cell_type": "code",
      "execution_count": 1,
      "metadata": {
        "id": "QPuP3_a1xC74"
      },
      "outputs": [],
      "source": [
        "import pandas as pd\n",
        "import numpy as np\n",
        "import re\n",
        "\n",
        "pd.options.display.max_columns = None"
      ]
    },
    {
      "cell_type": "markdown",
      "metadata": {
        "id": "BdvJoBkDxKMT"
      },
      "source": [
        "### `Question-1:`\n",
        "\n",
        "The dataset is based on NFTs. This is quite large. So, when you will read the dataset, you have to wait. The link of the dataset: https://tinyurl.com/2pfhncqw\n",
        "\n",
        "Your task is to make a pivote table by using the columns \"verification_status\", \"contract_type\", \"rarity_score\" and \"last_sale_price\" to find out the total values."
      ]
    },
    {
      "cell_type": "code",
      "execution_count": 4,
      "metadata": {
        "id": "5XXXFS5zxHEu"
      },
      "outputs": [
        {
          "data": {
            "text/html": [
              "<div>\n",
              "<style scoped>\n",
              "    .dataframe tbody tr th:only-of-type {\n",
              "        vertical-align: middle;\n",
              "    }\n",
              "\n",
              "    .dataframe tbody tr th {\n",
              "        vertical-align: top;\n",
              "    }\n",
              "\n",
              "    .dataframe thead th {\n",
              "        text-align: right;\n",
              "    }\n",
              "</style>\n",
              "<table border=\"1\" class=\"dataframe\">\n",
              "  <thead>\n",
              "    <tr style=\"text-align: right;\">\n",
              "      <th></th>\n",
              "      <th>Unnamed: 0</th>\n",
              "      <th>rarity_score</th>\n",
              "      <th>last_sale_date</th>\n",
              "      <th>last_sale_price</th>\n",
              "      <th>total_supply</th>\n",
              "      <th>creation_date</th>\n",
              "      <th>verification_status</th>\n",
              "      <th>n_of_traits</th>\n",
              "      <th>contract_type</th>\n",
              "      <th>seller_fees</th>\n",
              "      <th>platform_fees</th>\n",
              "      <th>openrarity_enabled</th>\n",
              "      <th>has_website</th>\n",
              "      <th>has_own_twitter</th>\n",
              "      <th>has_discord</th>\n",
              "      <th>has_medium</th>\n",
              "      <th>n_tweets_in_range</th>\n",
              "      <th>avg_likes</th>\n",
              "      <th>avg_replies</th>\n",
              "      <th>avg_retweets</th>\n",
              "      <th>min_likes</th>\n",
              "      <th>min_replies</th>\n",
              "      <th>min_retweets</th>\n",
              "      <th>max_likes</th>\n",
              "      <th>max_replies</th>\n",
              "      <th>max_retweets</th>\n",
              "    </tr>\n",
              "  </thead>\n",
              "  <tbody>\n",
              "    <tr>\n",
              "      <th>0</th>\n",
              "      <td>0</td>\n",
              "      <td>2.000000</td>\n",
              "      <td>2022-11</td>\n",
              "      <td>1.266732</td>\n",
              "      <td>1</td>\n",
              "      <td>2022-04</td>\n",
              "      <td>verified</td>\n",
              "      <td>2</td>\n",
              "      <td>own</td>\n",
              "      <td>1000.0</td>\n",
              "      <td>250</td>\n",
              "      <td>False</td>\n",
              "      <td>False</td>\n",
              "      <td>True</td>\n",
              "      <td>True</td>\n",
              "      <td>False</td>\n",
              "      <td>31</td>\n",
              "      <td>187.967742</td>\n",
              "      <td>8.290323</td>\n",
              "      <td>60.935484</td>\n",
              "      <td>0</td>\n",
              "      <td>0</td>\n",
              "      <td>2</td>\n",
              "      <td>591</td>\n",
              "      <td>28</td>\n",
              "      <td>380</td>\n",
              "    </tr>\n",
              "    <tr>\n",
              "      <th>1</th>\n",
              "      <td>1</td>\n",
              "      <td>97.077216</td>\n",
              "      <td>2021-08</td>\n",
              "      <td>1.200357</td>\n",
              "      <td>8888</td>\n",
              "      <td>2021-07</td>\n",
              "      <td>verified</td>\n",
              "      <td>5</td>\n",
              "      <td>own</td>\n",
              "      <td>500.0</td>\n",
              "      <td>250</td>\n",
              "      <td>False</td>\n",
              "      <td>False</td>\n",
              "      <td>True</td>\n",
              "      <td>True</td>\n",
              "      <td>False</td>\n",
              "      <td>11</td>\n",
              "      <td>133.181818</td>\n",
              "      <td>13.454545</td>\n",
              "      <td>55.181818</td>\n",
              "      <td>0</td>\n",
              "      <td>0</td>\n",
              "      <td>7</td>\n",
              "      <td>402</td>\n",
              "      <td>47</td>\n",
              "      <td>239</td>\n",
              "    </tr>\n",
              "  </tbody>\n",
              "</table>\n",
              "</div>"
            ],
            "text/plain": [
              "   Unnamed: 0  rarity_score last_sale_date  last_sale_price  total_supply  \\\n",
              "0           0      2.000000        2022-11         1.266732             1   \n",
              "1           1     97.077216        2021-08         1.200357          8888   \n",
              "\n",
              "  creation_date verification_status  n_of_traits contract_type  seller_fees  \\\n",
              "0       2022-04            verified            2           own       1000.0   \n",
              "1       2021-07            verified            5           own        500.0   \n",
              "\n",
              "   platform_fees  openrarity_enabled  has_website  has_own_twitter  \\\n",
              "0            250               False        False             True   \n",
              "1            250               False        False             True   \n",
              "\n",
              "   has_discord  has_medium  n_tweets_in_range   avg_likes  avg_replies  \\\n",
              "0         True       False                 31  187.967742     8.290323   \n",
              "1         True       False                 11  133.181818    13.454545   \n",
              "\n",
              "   avg_retweets  min_likes  min_replies  min_retweets  max_likes  max_replies  \\\n",
              "0     60.935484          0            0             2        591           28   \n",
              "1     55.181818          0            0             7        402           47   \n",
              "\n",
              "   max_retweets  \n",
              "0           380  \n",
              "1           239  "
            ]
          },
          "execution_count": 4,
          "metadata": {},
          "output_type": "execute_result"
        }
      ],
      "source": [
        "# code here\n",
        "nfts = pd.read_csv('nfts_train - nfts_train.csv')\n",
        "nfts.head(2)"
      ]
    },
    {
      "cell_type": "code",
      "execution_count": 6,
      "metadata": {},
      "outputs": [
        {
          "data": {
            "text/html": [
              "<div>\n",
              "<style scoped>\n",
              "    .dataframe tbody tr th:only-of-type {\n",
              "        vertical-align: middle;\n",
              "    }\n",
              "\n",
              "    .dataframe tbody tr th {\n",
              "        vertical-align: top;\n",
              "    }\n",
              "\n",
              "    .dataframe thead tr th {\n",
              "        text-align: left;\n",
              "    }\n",
              "\n",
              "    .dataframe thead tr:last-of-type th {\n",
              "        text-align: right;\n",
              "    }\n",
              "</style>\n",
              "<table border=\"1\" class=\"dataframe\">\n",
              "  <thead>\n",
              "    <tr>\n",
              "      <th></th>\n",
              "      <th colspan=\"2\" halign=\"left\">last_sale_price</th>\n",
              "      <th colspan=\"2\" halign=\"left\">rarity_score</th>\n",
              "    </tr>\n",
              "    <tr>\n",
              "      <th>contract_type</th>\n",
              "      <th>default</th>\n",
              "      <th>own</th>\n",
              "      <th>default</th>\n",
              "      <th>own</th>\n",
              "    </tr>\n",
              "    <tr>\n",
              "      <th>verification_status</th>\n",
              "      <th></th>\n",
              "      <th></th>\n",
              "      <th></th>\n",
              "      <th></th>\n",
              "    </tr>\n",
              "  </thead>\n",
              "  <tbody>\n",
              "    <tr>\n",
              "      <th>approved</th>\n",
              "      <td>658.931935</td>\n",
              "      <td>1684.819488</td>\n",
              "      <td>3.973082e+08</td>\n",
              "      <td>3.929607e+06</td>\n",
              "    </tr>\n",
              "    <tr>\n",
              "      <th>verified</th>\n",
              "      <td>370.304092</td>\n",
              "      <td>667394.862655</td>\n",
              "      <td>2.475007e+06</td>\n",
              "      <td>4.165654e+07</td>\n",
              "    </tr>\n",
              "  </tbody>\n",
              "</table>\n",
              "</div>"
            ],
            "text/plain": [
              "                    last_sale_price                 rarity_score              \n",
              "contract_type               default            own       default           own\n",
              "verification_status                                                           \n",
              "approved                 658.931935    1684.819488  3.973082e+08  3.929607e+06\n",
              "verified                 370.304092  667394.862655  2.475007e+06  4.165654e+07"
            ]
          },
          "execution_count": 6,
          "metadata": {},
          "output_type": "execute_result"
        }
      ],
      "source": [
        "nfts.pivot_table(index='verification_status',columns='contract_type',values=['rarity_score','last_sale_price'],aggfunc='sum')"
      ]
    },
    {
      "cell_type": "markdown",
      "metadata": {
        "id": "W2TiKcFJxP9i"
      },
      "source": [
        "### `Question-2:`\n",
        "\n",
        "You are given a dataset about the cars' price and miles driven of different cars throughout the different years. The link of the dataset: https://tinyurl.com/2r24n45l. Your tasks are\n",
        "- make a pivot table of the brands (the required brands are given below) from the \"Year\" 2018 to the year 2022 in which the \"Price\" is shown as average values and \"Miles\" are in median values. In this pivote table, every row represents a particular brand and each column represents either average \"Price\" of a partucular year or median values of \"Miles\" of a particular year.\n",
        "- At the end plot a kde chart for the \"Price\" and \"Miles\" by using your pivot table.\n",
        "\n",
        "There are some challenges to solve this task:\n",
        "- There is no column that is represented to the brand name of the car. You have to find out on your own.\n",
        "- Some values of \"Years\" column are misleading. You have to reset this column too that every value should tell a valid meaning."
      ]
    },
    {
      "cell_type": "code",
      "execution_count": null,
      "metadata": {
        "id": "hno_bmvXxSFf"
      },
      "outputs": [],
      "source": [
        "# code here"
      ]
    },
    {
      "cell_type": "markdown",
      "metadata": {
        "id": "DUPv5GVPxXRW"
      },
      "source": [
        "### `Question-3:`\n",
        "\n",
        "You are given a dataset of **Daily Power Generation in India** of regional wise of all Power Stations. Link of the dataset: https://tinyurl.com/2nq6kugt\n",
        "\n",
        "Task\n",
        "- In this dataset, there are many columns. Two of them are `Actual(MU)` and `Excess(+) / Shortfall (-)`. `Actual(MU)` represents the actual power generation. `Excess(+) / Shortfall (-)` tells is that generated power is excess or shortfall for that particular day of a power station. You have to find out what should be the actual power generation required for that day by the power stations that there would not be any excess or shorfall power. For the result, make a new column.\n",
        "- Find out the month of the day and store it as a new column.\n",
        "- Find out top 10 frequently appeared power stations in this dataframe.\n",
        "- Next create a pivot table of which every row represents a power station and every column represents a month in a order. Like January, February, March...\n",
        "- It is hard to get inside if you look through the only pivot table. So plot the pivot table."
      ]
    },
    {
      "cell_type": "code",
      "execution_count": null,
      "metadata": {
        "id": "hh_8bg1DxXyX"
      },
      "outputs": [],
      "source": [
        "# code here"
      ]
    },
    {
      "cell_type": "markdown",
      "metadata": {
        "id": "B97WK4fHxY9Q"
      },
      "source": [
        "###`Q-4` You are given a file `question-answer.csv`. Your task is to make a dataframe from it with two columns - `question` and `answers`.\n",
        "\n",
        "* Questions in the file start from `Q<number>`; E.g.  `Q1` denotes question no. `1`\n",
        "* Answers starts from `Ans<number>`; Eg. `Ans1` denotes answer of question no `1`\n",
        "* MAke sure you look at columns name carefully\n",
        "\n",
        "CSV File - \"https://drive.google.com/file/d/10rmV3XrVtzpDTtYZF3UtCdcU0ajBJjGY/view?usp=share_link\""
      ]
    },
    {
      "cell_type": "code",
      "execution_count": null,
      "metadata": {
        "id": "K1nTk0VZxcrE"
      },
      "outputs": [],
      "source": [
        "# code here"
      ]
    },
    {
      "cell_type": "markdown",
      "metadata": {
        "id": "zldnMnhixjA2"
      },
      "source": [
        "###`Q-5`: Print Question and answer of those questions which does not contains any question mark (`?`).\n"
      ]
    },
    {
      "cell_type": "code",
      "execution_count": null,
      "metadata": {
        "id": "r0D4gTPVxlWA"
      },
      "outputs": [],
      "source": [
        "# code here"
      ]
    },
    {
      "cell_type": "markdown",
      "metadata": {
        "id": "1-kn-7G-xv66"
      },
      "source": [
        "###`Q 6-10` LOG and EMPLOYEE \n",
        "6. Show `activity` details month wise. Show count for each `activity` \n",
        "7. Find employee who did most `activity` in January month.\n",
        "8. Employee who have worked most no of times on Weekends.\n",
        "9. Which activity is logged most on buisness days.\n",
        "10. Week Days wise activity table.\n",
        "```\n",
        "log_file = pd.read_csv(\"https://docs.google.com/spreadsheets/d/e/2PACX-1vT-OMrmmNdOTM-B5f5F1EpCutMVG230UZiLvqlsg0NIKUKR3yrqiI2r1pEX-LvSEk-3WwySPYtvbBC-/pub?gid=1937029224&single=true&output=csv\")\n",
        "employee = pd.read_csv(\"https://docs.google.com/spreadsheets/d/e/2PACX-1vQ5AuFqRjSZVBKm5zyDxquX6utubq1DJKkYDI70vjeidAnyAu70KMSYpMYzeVSNVTeUIJBpfF6jU5E6/pub?gid=798824749&single=true&output=csv\")\n",
        "\n",
        "```\n",
        "\n",
        "Note(for common field):- Employee file has `EMPLOYEE_ID` and LOG file has `emp_id`"
      ]
    },
    {
      "cell_type": "code",
      "execution_count": null,
      "metadata": {
        "id": "QJHlf8HSxzON"
      },
      "outputs": [],
      "source": [
        "# code here"
      ]
    },
    {
      "cell_type": "markdown",
      "metadata": {
        "id": "-YWS10wpx_2O"
      },
      "source": [
        "### `Q-11`:\n",
        "\n",
        "1. There are missing value in first name of employee. Fill it using email and last name field.\n",
        "\n",
        "> E.g- `email` -> JMURMAN and `last_name` -> 'Urman' -> so make it's first name as 'JM', Sort of (Email- lastname). \n",
        "\n",
        "> Email is constructed from initials of first name concate with lastname. Your Task is to fill first name initials in missing data.\n",
        "\n",
        "2. You can see email field don't have any domain name. Change this to full email addreess with domain as 'campusx.com'.\n",
        "E.g- Email field -> `JMURMAN`  result -> `JMURMAN@CAMPUSX.COM`\n",
        "\n",
        "3. Show Full Name of all the employees whose name starts with 'A' and has done any of these activity ['Incpection', 'Cleaning', 'Checking]"
      ]
    },
    {
      "cell_type": "code",
      "execution_count": null,
      "metadata": {
        "id": "IJTb_O9ryAf-"
      },
      "outputs": [],
      "source": [
        "# code here"
      ]
    }
  ],
  "metadata": {
    "colab": {
      "provenance": []
    },
    "kernelspec": {
      "display_name": "Python 3.8.10 64-bit",
      "language": "python",
      "name": "python3"
    },
    "language_info": {
      "codemirror_mode": {
        "name": "ipython",
        "version": 3
      },
      "file_extension": ".py",
      "mimetype": "text/x-python",
      "name": "python",
      "nbconvert_exporter": "python",
      "pygments_lexer": "ipython3",
      "version": "3.8.10"
    },
    "vscode": {
      "interpreter": {
        "hash": "e7370f93d1d0cde622a1f8e1c04877d8463912d04d973331ad4851f04de6915a"
      }
    }
  },
  "nbformat": 4,
  "nbformat_minor": 0
}
