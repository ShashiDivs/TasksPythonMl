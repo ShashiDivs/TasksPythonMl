{
 "cells": [
  {
   "cell_type": "markdown",
   "metadata": {},
   "source": [
    "Q-1: You are given a function definition. There might be several issues on execution of this function. You are asked to do exception handling for diffrent errors that this function goes in to without altering this function. And print error text."
   ]
  },
  {
   "cell_type": "code",
   "execution_count": 29,
   "metadata": {},
   "outputs": [
    {
     "name": "stdout",
     "output_type": "stream",
     "text": [
      "<class 'Exception'>\n"
     ]
    },
    {
     "ename": "IndexError",
     "evalue": "list assignment index out of range",
     "output_type": "error",
     "traceback": [
      "\u001b[0;31m---------------------------------------------------------------------------\u001b[0m",
      "\u001b[0;31mIndexError\u001b[0m                                Traceback (most recent call last)",
      "Cell \u001b[0;32mIn[29], line 17\u001b[0m\n\u001b[1;32m     14\u001b[0m         \u001b[38;5;66;03m# print(p)\u001b[39;00m\n\u001b[1;32m     15\u001b[0m         \u001b[38;5;28;01mreturn\u001b[39;00m res\u001b[38;5;241m/\u001b[39mlast_element \u001b[38;5;241m*\u001b[39m p \u001b[38;5;241m+\u001b[39m any_element\n\u001b[0;32m---> 17\u001b[0m x \u001b[38;5;241m=\u001b[39m \u001b[43mfunction\u001b[49m\u001b[43m(\u001b[49m\u001b[43m[\u001b[49m\u001b[38;5;241;43m1\u001b[39;49m\u001b[43m]\u001b[49m\u001b[43m,\u001b[49m\u001b[38;5;241;43m10\u001b[39;49m\u001b[43m)\u001b[49m\n\u001b[1;32m     18\u001b[0m \u001b[38;5;28mprint\u001b[39m(x)\n",
      "Cell \u001b[0;32mIn[29], line 7\u001b[0m, in \u001b[0;36mfunction\u001b[0;34m(l, s, **args)\u001b[0m\n\u001b[1;32m      4\u001b[0m \u001b[38;5;28;01mdef\u001b[39;00m \u001b[38;5;21mfunction\u001b[39m(l: \u001b[38;5;28mlist\u001b[39m, s, \u001b[38;5;241m*\u001b[39m\u001b[38;5;241m*\u001b[39margs):\n\u001b[1;32m      5\u001b[0m         last_element \u001b[38;5;241m=\u001b[39m l[\u001b[38;5;241m-\u001b[39m\u001b[38;5;241m1\u001b[39m]\n\u001b[0;32m----> 7\u001b[0m         \u001b[43ml\u001b[49m\u001b[43m[\u001b[49m\u001b[38;5;28;43mint\u001b[39;49m\u001b[43m(\u001b[49m\u001b[43ms\u001b[49m\u001b[43m)\u001b[49m\u001b[43m]\u001b[49m\u001b[38;5;241m=\u001b[39m\u001b[38;5;241m10\u001b[39m\n\u001b[1;32m      8\u001b[0m         any_element \u001b[38;5;241m=\u001b[39m l[\u001b[38;5;28mint\u001b[39m(s)\u001b[38;5;241m+\u001b[39m\u001b[38;5;241m10\u001b[39m]\n\u001b[1;32m      9\u001b[0m         l[s]\u001b[38;5;241m=\u001b[39m\u001b[38;5;241m10\u001b[39m\n",
      "\u001b[0;31mIndexError\u001b[0m: list assignment index out of range"
     ]
    }
   ],
   "source": [
    "class CustomExpression(Exception):\n",
    "    print(Exception)\n",
    "\n",
    "def function(l: list, s, **args):\n",
    "        last_element = l[-1]\n",
    "\n",
    "        l[int(s)]=10\n",
    "        any_element = l[int(s)+10]\n",
    "        l[s]=10\n",
    "\n",
    "        res = sum(l)\n",
    "\n",
    "        p = args['p']\n",
    "        # print(p)\n",
    "        return res/last_element * p + any_element\n"
   ]
  },
  {
   "cell_type": "code",
   "execution_count": 35,
   "metadata": {},
   "outputs": [
    {
     "name": "stdout",
     "output_type": "stream",
     "text": [
      "<class 'TypeError'>\n"
     ]
    }
   ],
   "source": [
    "try:\n",
    "    #function([1,2,1], 12)\n",
    "    #function([1,2,1]*9, '1-2')\n",
    "    #function([1,'2',1]*9, 12)\n",
    "    function([1,'2',1]*9, 12)\n",
    "    #function([1,2,0]*9, 12  )\n",
    "    #function([1,2,1]*9, 12, p=None)\n",
    "    #function([1,2,0]*9, 12, p=10)\n",
    "except IndexError as i:\n",
    "    print(type(i))\n",
    "except KeyError as k:\n",
    "    print(type(k))\n",
    "except TypeError as t:\n",
    "    print(type(t))\n",
    "except ValueError as v:\n",
    "    print(type(v))"
   ]
  },
  {
   "cell_type": "code",
   "execution_count": null,
   "metadata": {},
   "outputs": [],
   "source": []
  },
  {
   "cell_type": "code",
   "execution_count": 22,
   "metadata": {},
   "outputs": [
    {
     "name": "stdout",
     "output_type": "stream",
     "text": [
      "list assignment index out of range\n"
     ]
    }
   ],
   "source": [
    "try:\n",
    "    function([1,2,1], 12)\n",
    "except Exception as e:\n",
    "    print(CustomExpression(e))"
   ]
  },
  {
   "cell_type": "code",
   "execution_count": 23,
   "metadata": {},
   "outputs": [
    {
     "ename": "TypeError",
     "evalue": "unsupported operand type(s) for +: 'int' and 'str'",
     "output_type": "error",
     "traceback": [
      "\u001b[0;31m---------------------------------------------------------------------------\u001b[0m",
      "\u001b[0;31mTypeError\u001b[0m                                 Traceback (most recent call last)",
      "Cell \u001b[0;32mIn[23], line 1\u001b[0m\n\u001b[0;32m----> 1\u001b[0m \u001b[43mfunction\u001b[49m\u001b[43m(\u001b[49m\u001b[43m[\u001b[49m\u001b[38;5;241;43m1\u001b[39;49m\u001b[43m,\u001b[49m\u001b[38;5;124;43m'\u001b[39;49m\u001b[38;5;124;43m2\u001b[39;49m\u001b[38;5;124;43m'\u001b[39;49m\u001b[43m,\u001b[49m\u001b[38;5;241;43m1\u001b[39;49m\u001b[43m]\u001b[49m\u001b[38;5;241;43m*\u001b[39;49m\u001b[38;5;241;43m9\u001b[39;49m\u001b[43m,\u001b[49m\u001b[43m \u001b[49m\u001b[38;5;241;43m12\u001b[39;49m\u001b[43m)\u001b[49m\n",
      "Cell \u001b[0;32mIn[12], line 11\u001b[0m, in \u001b[0;36mfunction\u001b[0;34m(l, s, **args)\u001b[0m\n\u001b[1;32m      8\u001b[0m any_element \u001b[38;5;241m=\u001b[39m l[\u001b[38;5;28mint\u001b[39m(s)\u001b[38;5;241m+\u001b[39m\u001b[38;5;241m10\u001b[39m]\n\u001b[1;32m      9\u001b[0m l[s]\u001b[38;5;241m=\u001b[39m\u001b[38;5;241m10\u001b[39m\n\u001b[0;32m---> 11\u001b[0m res \u001b[38;5;241m=\u001b[39m \u001b[38;5;28;43msum\u001b[39;49m\u001b[43m(\u001b[49m\u001b[43ml\u001b[49m\u001b[43m)\u001b[49m\n\u001b[1;32m     13\u001b[0m p \u001b[38;5;241m=\u001b[39m args[\u001b[38;5;124m'\u001b[39m\u001b[38;5;124mp\u001b[39m\u001b[38;5;124m'\u001b[39m]\n\u001b[1;32m     14\u001b[0m \u001b[38;5;66;03m# print(p)\u001b[39;00m\n",
      "\u001b[0;31mTypeError\u001b[0m: unsupported operand type(s) for +: 'int' and 'str'"
     ]
    }
   ],
   "source": [
    "function([1,'2',1]*9, 12)"
   ]
  },
  {
   "cell_type": "code",
   "execution_count": 13,
   "metadata": {},
   "outputs": [
    {
     "ename": "IndexError",
     "evalue": "list assignment index out of range",
     "output_type": "error",
     "traceback": [
      "\u001b[0;31m---------------------------------------------------------------------------\u001b[0m",
      "\u001b[0;31mIndexError\u001b[0m                                Traceback (most recent call last)",
      "Cell \u001b[0;32mIn[13], line 1\u001b[0m\n\u001b[0;32m----> 1\u001b[0m \u001b[43mfunction\u001b[49m\u001b[43m(\u001b[49m\u001b[43m[\u001b[49m\u001b[38;5;241;43m1\u001b[39;49m\u001b[43m,\u001b[49m\u001b[38;5;241;43m2\u001b[39;49m\u001b[43m,\u001b[49m\u001b[38;5;241;43m1\u001b[39;49m\u001b[43m]\u001b[49m\u001b[43m,\u001b[49m\u001b[43m \u001b[49m\u001b[38;5;241;43m12\u001b[39;49m\u001b[43m)\u001b[49m\n\u001b[1;32m      2\u001b[0m function([\u001b[38;5;241m1\u001b[39m,\u001b[38;5;241m2\u001b[39m,\u001b[38;5;241m1\u001b[39m]\u001b[38;5;241m*\u001b[39m\u001b[38;5;241m9\u001b[39m, \u001b[38;5;124m'\u001b[39m\u001b[38;5;124m1-2\u001b[39m\u001b[38;5;124m'\u001b[39m)\n\u001b[1;32m      3\u001b[0m function([\u001b[38;5;241m1\u001b[39m,\u001b[38;5;124m'\u001b[39m\u001b[38;5;124m2\u001b[39m\u001b[38;5;124m'\u001b[39m,\u001b[38;5;241m1\u001b[39m]\u001b[38;5;241m*\u001b[39m\u001b[38;5;241m9\u001b[39m, \u001b[38;5;241m12\u001b[39m)\n",
      "Cell \u001b[0;32mIn[12], line 7\u001b[0m, in \u001b[0;36mfunction\u001b[0;34m(l, s, **args)\u001b[0m\n\u001b[1;32m      4\u001b[0m \u001b[38;5;28;01mdef\u001b[39;00m \u001b[38;5;21mfunction\u001b[39m(l: \u001b[38;5;28mlist\u001b[39m, s, \u001b[38;5;241m*\u001b[39m\u001b[38;5;241m*\u001b[39margs):\n\u001b[1;32m      5\u001b[0m         last_element \u001b[38;5;241m=\u001b[39m l[\u001b[38;5;241m-\u001b[39m\u001b[38;5;241m1\u001b[39m]\n\u001b[0;32m----> 7\u001b[0m         \u001b[43ml\u001b[49m\u001b[43m[\u001b[49m\u001b[38;5;28;43mint\u001b[39;49m\u001b[43m(\u001b[49m\u001b[43ms\u001b[49m\u001b[43m)\u001b[49m\u001b[43m]\u001b[49m\u001b[38;5;241m=\u001b[39m\u001b[38;5;241m10\u001b[39m\n\u001b[1;32m      8\u001b[0m         any_element \u001b[38;5;241m=\u001b[39m l[\u001b[38;5;28mint\u001b[39m(s)\u001b[38;5;241m+\u001b[39m\u001b[38;5;241m10\u001b[39m]\n\u001b[1;32m      9\u001b[0m         l[s]\u001b[38;5;241m=\u001b[39m\u001b[38;5;241m10\u001b[39m\n",
      "\u001b[0;31mIndexError\u001b[0m: list assignment index out of range"
     ]
    }
   ],
   "source": [
    "function([1,2,1], 12)\n",
    "function([1,2,1]*9, '1-2')\n",
    "function([1,'2',1]*9, 12)\n",
    "function([1,'2',1]*9, 12)\n",
    "function([1,2,0]*9, 12  )\n",
    "function([1,2,1]*9, 12, p=None)\n",
    "function([1,2,0]*9, 12, p=10)"
   ]
  },
  {
   "cell_type": "markdown",
   "metadata": {},
   "source": [
    "Q-2: You are given a code snippet. There might be several issues on execution of this code. You are asked to do exception handling for diffrent errors, condition is what ever happens we need to execute last line printing correct result of sum of elements.\n",
    "List have elemnts as any no of key-pair dict with key as list index and value as any integer, integers and numeric-strings. There is always only one element in the dict."
   ]
  },
  {
   "cell_type": "code",
   "execution_count": 63,
   "metadata": {},
   "outputs": [
    {
     "name": "stdout",
     "output_type": "stream",
     "text": [
      "26\n"
     ]
    }
   ],
   "source": [
    "l = [{0:2},2,3,4,'5', {5:10}]\n",
    "# For calculating sum of above list\n",
    "s = 0\n",
    "for i in range(len(l)):\n",
    "    try:\n",
    "        s+=l[i]\n",
    "    except TypeError:\n",
    "        try:\n",
    "            s += l[i].get(i)\n",
    "        except AttributeError:\n",
    "            s += int(l[i])\n",
    "print(s)\n"
   ]
  },
  {
   "cell_type": "markdown",
   "metadata": {},
   "source": [
    "Q-3:: File Handling with Exception handling\n",
    "Write a program that opens a text file and write data to it as \"Hello, Good Morning!!!\". Handle exceptions that can be generated during the I/O operations. Do not show the success message on the main exception handling block (write inside the else block)."
   ]
  },
  {
   "cell_type": "code",
   "execution_count": null,
   "metadata": {},
   "outputs": [],
   "source": []
  },
  {
   "cell_type": "code",
   "execution_count": 57,
   "metadata": {},
   "outputs": [],
   "source": [
    "import logging\n",
    "logging.basicConfig(filename = 'strs.log',level=logging.INFO,format = ('%(asctime)s %(levelname)s %(message)s' ))\n",
    "\n",
    "logging.info('this is program...')"
   ]
  },
  {
   "cell_type": "code",
   "execution_count": 98,
   "metadata": {},
   "outputs": [
    {
     "data": {
      "text/plain": [
       "26"
      ]
     },
     "execution_count": 98,
     "metadata": {},
     "output_type": "execute_result"
    }
   ],
   "source": [
    "l = [{0:2},2,3,4,'5', {5:10}]\n",
    "ls = []\n",
    "for i in l:\n",
    "    if type(i) == dict:\n",
    "        for j in i.items():\n",
    "            ls.append(j[1])\n",
    "    if type(i) == int:\n",
    "        ls.append(i)\n",
    "    if type(i) == str:\n",
    "        ls.append(int(i))\n",
    "sum(ls)"
   ]
  },
  {
   "cell_type": "code",
   "execution_count": 1,
   "metadata": {},
   "outputs": [
    {
     "name": "stdout",
     "output_type": "stream",
     "text": [
      "4\n",
      "6\n"
     ]
    }
   ],
   "source": [
    "s = [{0:4},{5:6}]\n",
    "for i in s:\n",
    "    for j in i.items():\n",
    "        print(j[1])\n",
    "        "
   ]
  },
  {
   "cell_type": "markdown",
   "metadata": {},
   "source": [
    "Q-3:: File Handling with Exception handling\n",
    "Write a program that opens a text file and write data to it as \"Hello, Good Morning!!!\". Handle exceptions that can be generated during the I/O operations. Do not show the success message on the main exception handling block (write inside the else block)."
   ]
  },
  {
   "cell_type": "code",
   "execution_count": 4,
   "metadata": {},
   "outputs": [
    {
     "name": "stdout",
     "output_type": "stream",
     "text": [
      "Error working with files\n"
     ]
    }
   ],
   "source": [
    "try:\n",
    "    with open('sasi.txt','w') as f:\n",
    "        f.write('Hello Good Morning....')\n",
    "except IOError:\n",
    "    print('Error working with files')\n",
    "else:\n",
    "    print('file written successfully..')"
   ]
  },
  {
   "cell_type": "markdown",
   "metadata": {},
   "source": [
    "Q-4: Number game program.\n",
    "\n",
    "Write a number game program. Ask the user to enter a number. If the number is greater than number to be guessed, raise a ValueTooLarge exception. If the value is smaller the number to be guessed the, raise a ValueTooSmall exception and prompt the user to enter again. Quit the program only when the user enters the correct number. Also raise GuessError if user guess a number less than 1."
   ]
  },
  {
   "cell_type": "code",
   "execution_count": 2,
   "metadata": {},
   "outputs": [
    {
     "name": "stdout",
     "output_type": "stream",
     "text": [
      "Number is TooSmall\n",
      "Number is TooLarge\n",
      "correct number chosen...\n"
     ]
    }
   ],
   "source": [
    "num = int(input(\"Enter a Number: \"))\n",
    "\n",
    "guessedNum = 50\n",
    "\n",
    "while True:\n",
    "    if num > guessedNum:\n",
    "        print('Number is TooLarge')\n",
    "        num = int(input(\"Enter a Number: \"))\n",
    "    elif num < guessedNum:\n",
    "        print('Number is TooSmall')\n",
    "        num = int(input(\"Enter a Number: \"))\n",
    "    else:\n",
    "        print('correct number chosen...')\n",
    "        break\n"
   ]
  }
 ],
 "metadata": {
  "kernelspec": {
   "display_name": "Python 3.8.10 64-bit",
   "language": "python",
   "name": "python3"
  },
  "language_info": {
   "codemirror_mode": {
    "name": "ipython",
    "version": 3
   },
   "file_extension": ".py",
   "mimetype": "text/x-python",
   "name": "python",
   "nbconvert_exporter": "python",
   "pygments_lexer": "ipython3",
   "version": "3.8.10"
  },
  "orig_nbformat": 4,
  "vscode": {
   "interpreter": {
    "hash": "e7370f93d1d0cde622a1f8e1c04877d8463912d04d973331ad4851f04de6915a"
   }
  }
 },
 "nbformat": 4,
 "nbformat_minor": 2
}
