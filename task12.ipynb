{
 "cells": [
  {
   "cell_type": "code",
   "execution_count": 15,
   "metadata": {},
   "outputs": [
    {
     "name": "stdout",
     "output_type": "stream",
     "text": [
      "0----->__module__\n",
      "1----->__init__\n",
      "2----->set_city\n",
      "3----->get_city\n",
      "4----->set_age\n",
      "5----->get_age\n",
      "6----->address\n",
      "7----->__dict__\n",
      "8----->__weakref__\n",
      "9----->__doc__\n"
     ]
    }
   ],
   "source": [
    "class Person:\n",
    "\n",
    "    def __init__(self,name,state,city,age):\n",
    "        self.name = name\n",
    "        self.state = state\n",
    "        self.__city = None\n",
    "        self.__age = None\n",
    "\n",
    "    def set_city(self,city):\n",
    "        self.__city = city\n",
    "\n",
    "    def get_city(self,city):\n",
    "        return self.__city\n",
    "\n",
    "    def set_age(self,age):\n",
    "        self.__age = age\n",
    "\n",
    "    def get_age(self,age):\n",
    "        return self.__age\n",
    "\n",
    "    def address(self):\n",
    "        return f\"{self.name},{self.__city},{self.state}\"\n",
    "\n",
    "\n",
    "p = Person('sasi','Telangana','Hyderarbad',38)\n",
    "for i,l in enumerate(Person.__dict__):\n",
    "    print(f\"{i}----->{l}\")"
   ]
  },
  {
   "cell_type": "code",
   "execution_count": 23,
   "metadata": {},
   "outputs": [
    {
     "name": "stdout",
     "output_type": "stream",
     "text": [
      "Address sasi,Hyderabad,38,Telangana\n",
      "name\n",
      "state\n",
      "_Person__city\n",
      "_Person__age\n"
     ]
    }
   ],
   "source": [
    "class Person:\n",
    "\n",
    "    def __init__(self,name,state,city,age):\n",
    "        self.name = name\n",
    "        self.state = state\n",
    "        self.__city = None\n",
    "        self.__age = None\n",
    "\n",
    "    def set_city(self,city):\n",
    "        self.__city = city\n",
    "\n",
    "    def get_city(self,city):\n",
    "        return self.__city\n",
    "\n",
    "    def set_age(self,age):\n",
    "        self.__age = age\n",
    "\n",
    "    def get_age(self,age):\n",
    "        return self.__age\n",
    "\n",
    "    def address(self):\n",
    "        return f\"{self.name},{self.__city},{self.__age},{self.state}\"\n",
    "\n",
    "\n",
    "p = Person('sasi','Telangana','Hyderarbad',38)\n",
    "#for i,l in enumerate(Person.__dict__):\n",
    "    #print(f\"{i}----->{l}\")\n",
    "\n",
    "p.set_age(38)\n",
    "p.set_city('Hyderabad')\n",
    "print('Address',p.address())\n",
    "\n",
    "for i in p.__dict__:\n",
    "    print(i)"
   ]
  },
  {
   "cell_type": "markdown",
   "metadata": {},
   "source": [
    "Q3: Write a recursive program to to calculate gcd and print no. of function calls taken to find the solution."
   ]
  },
  {
   "cell_type": "code",
   "execution_count": 33,
   "metadata": {},
   "outputs": [
    {
     "data": {
      "text/plain": [
       "2"
      ]
     },
     "execution_count": 33,
     "metadata": {},
     "output_type": "execute_result"
    }
   ],
   "source": [
    "#Write your code here\n",
    "# O(log(min(a,b)))\n",
    "\n",
    "def gcd(a,b):\n",
    "    if a==b:\n",
    "        return a\n",
    "    elif a>b:\n",
    "        return gcd(a-b,b)\n",
    "    else:\n",
    "        return gcd(b-a,a)\n",
    "\n",
    "gcd(6,20)"
   ]
  },
  {
   "cell_type": "code",
   "execution_count": 32,
   "metadata": {},
   "outputs": [
    {
     "data": {
      "text/plain": [
       "2"
      ]
     },
     "execution_count": 32,
     "metadata": {},
     "output_type": "execute_result"
    }
   ],
   "source": [
    "def gcd(a,b):\n",
    "    if b == 0:\n",
    "        return a\n",
    "    else:\n",
    "        return gcd(b,a%b)\n",
    "\n",
    "gcd(6,20)"
   ]
  },
  {
   "cell_type": "code",
   "execution_count": 34,
   "metadata": {},
   "outputs": [
    {
     "name": "stdout",
     "output_type": "stream",
     "text": [
      "2 4\n"
     ]
    }
   ],
   "source": [
    "counter = 0\n",
    "def gcd(a,b):\n",
    "    global counter\n",
    "    counter +=1\n",
    "    if b == 0:\n",
    "        return a\n",
    "    else:\n",
    "        return gcd(b,a%b)\n",
    "\n",
    "print(gcd(6,20),counter)"
   ]
  },
  {
   "cell_type": "markdown",
   "metadata": {},
   "source": [
    "Create your own MyEnumerate class such that someone can use it instead of enumerate. It will need to return a tuple with each iteration, with the first element in the tuple being the index (starting with 0) and the second element being the current element from the underlying data structure. Trying to use MyEnumerate with a noniterable argument will result in an error."
   ]
  },
  {
   "cell_type": "code",
   "execution_count": 10,
   "metadata": {},
   "outputs": [
    {
     "name": "stdout",
     "output_type": "stream",
     "text": [
      "0 : x\n",
      "1 : y\n",
      "2 : z\n"
     ]
    }
   ],
   "source": [
    "class MyEnumerateIterator:\n",
    "    def __init__(self,data,max_items):\n",
    "        self.data = data\n",
    "        self.max_items = max_items\n",
    "        self.index = 0\n",
    "\n",
    "    def __next__(self):\n",
    "        if self.index>=self.max_items:\n",
    "            raise StopIteration\n",
    "        value = (self.index,self.data[self.index])\n",
    "        self.index+=1\n",
    "        return value\n",
    "\n",
    "class Myenumerator:\n",
    "\n",
    "    def __init__(self,data):\n",
    "        self.data = data\n",
    "\n",
    "    def __iter__(self):\n",
    "        return MyEnumerateIterator(self.data,len(self.data))\n",
    "    \n",
    "l = ['x','y','z']\n",
    "for index, letter in Myenumerator(l):\n",
    "    print(f'{index} : {letter}')"
   ]
  },
  {
   "cell_type": "code",
   "execution_count": 11,
   "metadata": {},
   "outputs": [
    {
     "name": "stdout",
     "output_type": "stream",
     "text": [
      "0 0\n",
      "1 2\n",
      "2 4\n",
      "3 6\n",
      "4 8\n",
      "5 10\n",
      "6 12\n",
      "7 14\n",
      "8 16\n",
      "9 18\n"
     ]
    }
   ],
   "source": [
    "l = [i*2 for i in range(10)]\n",
    "for i,j in Myenumerator(l):\n",
    "    print(i,j)"
   ]
  },
  {
   "cell_type": "code",
   "execution_count": 4,
   "metadata": {},
   "outputs": [
    {
     "data": {
      "text/plain": [
       "[(1, 's'), (2, 'h'), (3, 'a'), (5, 's')]"
      ]
     },
     "execution_count": 4,
     "metadata": {},
     "output_type": "execute_result"
    }
   ],
   "source": [
    "a = [1,2,3,5]\n",
    "b = ['s','h','a','s']\n",
    "\n",
    "list(zip(a,b))"
   ]
  },
  {
   "cell_type": "code",
   "execution_count": null,
   "metadata": {},
   "outputs": [],
   "source": []
  },
  {
   "cell_type": "code",
   "execution_count": null,
   "metadata": {},
   "outputs": [],
   "source": []
  }
 ],
 "metadata": {
  "kernelspec": {
   "display_name": "Python 3.8.10 64-bit",
   "language": "python",
   "name": "python3"
  },
  "language_info": {
   "codemirror_mode": {
    "name": "ipython",
    "version": 3
   },
   "file_extension": ".py",
   "mimetype": "text/x-python",
   "name": "python",
   "nbconvert_exporter": "python",
   "pygments_lexer": "ipython3",
   "version": "3.8.10"
  },
  "orig_nbformat": 4,
  "vscode": {
   "interpreter": {
    "hash": "e7370f93d1d0cde622a1f8e1c04877d8463912d04d973331ad4851f04de6915a"
   }
  }
 },
 "nbformat": 4,
 "nbformat_minor": 2
}
